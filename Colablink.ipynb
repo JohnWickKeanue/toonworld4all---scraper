{
  "nbformat": 4,
  "nbformat_minor": 0,
  "metadata": {
    "colab": {
      "provenance": [],
      "authorship_tag": "ABX9TyNd8+gn0LjGx0VyVNzUPnVI",
      "include_colab_link": true
    },
    "kernelspec": {
      "name": "python3",
      "display_name": "Python 3"
    },
    "language_info": {
      "name": "python"
    }
  },
  "cells": [
    {
      "cell_type": "markdown",
      "metadata": {
        "id": "view-in-github",
        "colab_type": "text"
      },
      "source": [
        "<a href=\"https://colab.research.google.com/github/JohnWickKeanue/toonworld4all-scraper/blob/main/Colablink.ipynb\" target=\"_parent\"><img src=\"https://colab.research.google.com/assets/colab-badge.svg\" alt=\"Open In Colab\"/></a>"
      ]
    },
    {
      "cell_type": "code",
      "execution_count": null,
      "metadata": {
        "id": "f6NnhaqK2i31"
      },
      "outputs": [],
      "source": [
        "\n",
        "#@title <b><center>Enter toonworld4all link</center></b>\n",
        "import time\n",
        "from bs4 import BeautifulSoup\n",
        "import requests\n",
        "from requests import get\n",
        "url = \"https://toonworld4all.me/teen-titans-trouble-in-tokyo-2006-bluray-multi-audio-hindi/\"#@param {type:\"string\"}\n",
        "\n",
        "def flix(url):\n",
        "    client = requests.session()\n",
        "    r = client.get(url).text\n",
        "    soup = BeautifulSoup (r, \"html.parser\")\n",
        "    for a in soup.find_all(\"a\"):\n",
        "                   c= a.get(\"href\")\n",
        "                   if \"redirect/main.php?\" in c:\n",
        "                       download = get(c, stream=True, allow_redirects=False)\n",
        "                       v = download.headers[\"location\"]\n",
        "                       DOMAIN = \"https://share.techymedies.com\"\n",
        "                       code = v.split(\"/\")[-1]\n",
        "                       final_url = f\"{DOMAIN}/{code}\"\n",
        "                       ref = \"https://disheye.com/\"\n",
        "                       h = {\"referer\": ref}\n",
        "                       resp = client.get(final_url,headers=h)\n",
        "                       soup = BeautifulSoup(resp.content, \"html.parser\")\n",
        "    \n",
        "                       try: inputs = soup.find(id=\"go-link\").find_all(name=\"input\")\n",
        "                       except: return \"Incorrect Link\"\n",
        "    \n",
        "                       data = { input.get('name'): input.get('value') for input in inputs }\n",
        "\n",
        "                       h = { \"x-requested-with\": \"XMLHttpRequest\" }\n",
        "    \n",
        "                       time.sleep(5)\n",
        "                       r = client.post(f\"{DOMAIN}/links/go\", data=data, headers=h)\n",
        "                       g = r.json()['url']\n",
        "                       if \"gdtot\" in g:\n",
        "                           t = client.get(g).text\n",
        "                           soupt = BeautifulSoup(t, \"html.parser\")\n",
        "                           title = soupt.title\n",
        "                           gd_txt = f\"{(title.text).replace('GDToT | ' , '')}\\n{g}\\n\\n\"\n",
        "                           print(gd_txt)\n",
        "\n",
        "print(flix(url))"
      ]
    }
  ]
}
